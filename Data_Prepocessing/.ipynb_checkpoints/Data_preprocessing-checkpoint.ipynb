{
 "cells": [
  {
   "cell_type": "code",
   "execution_count": 1,
   "metadata": {},
   "outputs": [],
   "source": [
    "#Data Prepocessing\n",
    "\n",
    "#importing the library\n",
    "\n",
    "\n",
    "import numpy as np;#Used for mathematical functions\n",
    "import matplotlib.pyplot as plt # used for plotting the plots\n",
    "import pandas as pd #used for importing data set as well as converting dataset to matrices\n",
    "\n",
    "\n"
   ]
  },
  {
   "cell_type": "code",
   "execution_count": null,
   "metadata": {},
   "outputs": [],
   "source": []
  },
  {
   "cell_type": "code",
   "execution_count": 5,
   "metadata": {},
   "outputs": [
    {
     "name": "stdout",
     "output_type": "stream",
     "text": [
      "[['France' 44.0 72000.0]\n",
      " ['Spain' 27.0 48000.0]\n",
      " ['Germany' 30.0 54000.0]\n",
      " ['Spain' 38.0 61000.0]\n",
      " ['Germany' 40.0 nan]\n",
      " ['France' 35.0 58000.0]\n",
      " ['Spain' nan 52000.0]\n",
      " ['France' 48.0 79000.0]\n",
      " ['Germany' 50.0 83000.0]\n",
      " ['France' 37.0 67000.0]]\n",
      "['No' 'Yes' 'No' 'No' 'Yes' 'Yes' 'No' 'Yes' 'No' 'Yes']\n"
     ]
    }
   ],
   "source": [
    "#Importing the dataset.\n",
    "\n",
    "dataset = pd.read_csv('Data.csv') #Reading the dataset from the data.csv\n",
    "X = dataset.iloc[:,:-1].values\n",
    "\n",
    "#matrices which are used as features for the machine learning problem\n",
    "#iloc --> means index location to fetch the data from that index location \n",
    "#values --> to fetch all the values.\n",
    "# here : in python represents the range\n",
    "# : --> range --> in python includes the lower bound but excludes the upper bound.\n",
    "# so :-1 --> includes all the elements except the last one as -1 represents the last element.\n",
    "\n",
    "y = dataset.iloc[:,-1].values \n",
    "\n",
    "print(X)\n",
    "print(y)\n",
    "\n",
    "\n"
   ]
  },
  {
   "cell_type": "code",
   "execution_count": null,
   "metadata": {},
   "outputs": [],
   "source": []
  },
  {
   "cell_type": "code",
   "execution_count": 10,
   "metadata": {},
   "outputs": [
    {
     "name": "stdout",
     "output_type": "stream",
     "text": [
      "[['France' 44.0 72000.0]\n",
      " ['Spain' 27.0 48000.0]\n",
      " ['Germany' 30.0 54000.0]\n",
      " ['Spain' 38.0 61000.0]\n",
      " ['Germany' 40.0 63777.77777777778]\n",
      " ['France' 35.0 58000.0]\n",
      " ['Spain' 38.77777777777778 52000.0]\n",
      " ['France' 48.0 79000.0]\n",
      " ['Germany' 50.0 83000.0]\n",
      " ['France' 37.0 67000.0]]\n"
     ]
    }
   ],
   "source": [
    "#Add missing values in the dataset.\n",
    "\n",
    "from sklearn.impute import SimpleImputer \n",
    "\n",
    "#skykit learn is datascience library where there are numerous preprocessing tools\n",
    "# Simple Imputer is a class which is used to replace missing_values\n",
    "\n",
    "impute = SimpleImputer(missing_values=np.nan,strategy='mean')\n",
    "\n",
    "#creating an object of Simple inputer where we specify which stratergy should be used to replace missing_values\n",
    "#stratergy here is to replace values of a column with mean and np.nan specify null values to be replace.\n",
    "\n",
    "impute.fit(X[:,1:3])\n",
    "\n",
    "#fit method connects the imputer with matrix. it will calculate the mean of the columns for which fit method is specified. \n",
    "#However it would not replace missing values with mean it will only calculate mean.\n",
    "#moreover the mean is only calculated for integers, float,double type of values not strings and characters.\n",
    "\n",
    "X[:,1:3] = impute.transform(X[:,1:3]);\n",
    "\n",
    "#transfrom method transforms the columns to the which are fitted for average value into their mean value. It returns the value.\n",
    "\n",
    "print(X)\n"
   ]
  },
  {
   "cell_type": "code",
   "execution_count": 13,
   "metadata": {},
   "outputs": [
    {
     "name": "stdout",
     "output_type": "stream",
     "text": [
      "[[0.0 1.0 0.0 0.0 44.0 72000.0]\n",
      " [1.0 0.0 0.0 1.0 27.0 48000.0]\n",
      " [1.0 0.0 1.0 0.0 30.0 54000.0]\n",
      " [1.0 0.0 0.0 1.0 38.0 61000.0]\n",
      " [1.0 0.0 1.0 0.0 40.0 63777.77777777778]\n",
      " [0.0 1.0 0.0 0.0 35.0 58000.0]\n",
      " [1.0 0.0 0.0 1.0 38.77777777777778 52000.0]\n",
      " [0.0 1.0 0.0 0.0 48.0 79000.0]\n",
      " [1.0 0.0 1.0 0.0 50.0 83000.0]\n",
      " [0.0 1.0 0.0 0.0 37.0 67000.0]]\n"
     ]
    }
   ],
   "source": [
    "##Preprocessing the columns with categorical data. Encoding categorical data.\n",
    "\n",
    "#One hot encoding. --> It transforms a single column with N categorical values or to say N categories into N columns. One column\n",
    "# for each category. it is used because we want to assign same weight to all the values of the country and not numerical value\n",
    "#1,2,3\n",
    "\n",
    "from sklearn.compose import ColumnTransformer\n",
    "from sklearn.preprocessing import OneHotEncoder\n",
    "\n",
    "ct = ColumnTransformer(transformers=[('encoder',OneHotEncoder(),[0])],remainder='passthrough')\n",
    "\n",
    "#Column transformer is to transform the column for the categorical values. Here the transformers column and how to transform its \n",
    "#information is given. Here encoding is used to transform,OnehotEncoder() object is being used and column which is to be transformed\n",
    "#its index is given. remainder contains to specify that other columns should remain and passthrough.\n",
    "\n",
    "X= np.array(ct.fit_transform(X))\n",
    "\n",
    "#fit transform method of the column transformer returns a numbpy array so it is directly converted into numbpy array of X\n",
    "\n",
    "print(X)\n",
    "\n",
    "\n",
    "\n",
    "\n"
   ]
  },
  {
   "cell_type": "code",
   "execution_count": 16,
   "metadata": {},
   "outputs": [
    {
     "name": "stdout",
     "output_type": "stream",
     "text": [
      "[0 1 0 0 1 1 0 1 0 1]\n"
     ]
    }
   ],
   "source": [
    "##Encoding the dependent variable Y as it will be yes or no so it should be encoded with 1 and 0\n",
    "\n",
    "from sklearn.preprocessing import LabelEncoder\n",
    "\n",
    "le = LabelEncoder()\n",
    "y =  le.fit_transform(y)\n",
    "\n",
    "print(y)"
   ]
  },
  {
   "cell_type": "code",
   "execution_count": 18,
   "metadata": {},
   "outputs": [
    {
     "name": "stdout",
     "output_type": "stream",
     "text": [
      "[[-1.22474487e+00  1.22474487e+00 -6.54653671e-01 -6.54653671e-01\n",
      "   7.58874362e-01  7.49473254e-01]\n",
      " [ 8.16496581e-01 -8.16496581e-01 -6.54653671e-01  1.52752523e+00\n",
      "  -1.71150388e+00 -1.43817841e+00]\n",
      " [ 8.16496581e-01 -8.16496581e-01  1.52752523e+00 -6.54653671e-01\n",
      "  -1.27555478e+00 -8.91265492e-01]\n",
      " [ 8.16496581e-01 -8.16496581e-01 -6.54653671e-01  1.52752523e+00\n",
      "  -1.13023841e-01 -2.53200424e-01]\n",
      " [ 8.16496581e-01 -8.16496581e-01  1.52752523e+00 -6.54653671e-01\n",
      "   1.77608893e-01  6.63219199e-16]\n",
      " [-1.22474487e+00  1.22474487e+00 -6.54653671e-01 -6.54653671e-01\n",
      "  -5.48972942e-01 -5.26656882e-01]\n",
      " [ 8.16496581e-01 -8.16496581e-01 -6.54653671e-01  1.52752523e+00\n",
      "   0.00000000e+00 -1.07356980e+00]\n",
      " [-1.22474487e+00  1.22474487e+00 -6.54653671e-01 -6.54653671e-01\n",
      "   1.34013983e+00  1.38753832e+00]\n",
      " [ 8.16496581e-01 -8.16496581e-01  1.52752523e+00 -6.54653671e-01\n",
      "   1.63077256e+00  1.75214693e+00]\n",
      " [-1.22474487e+00  1.22474487e+00 -6.54653671e-01 -6.54653671e-01\n",
      "  -2.58340208e-01  2.93712492e-01]]\n"
     ]
    }
   ],
   "source": [
    "#Feature scaling.\n",
    "\n",
    "#Standard Nornalization = x-mean/standard valuation.\n",
    "\n",
    "from sklearn.preprocessing import StandardScaler\n",
    "\n",
    "ac = StandardScaler()\n",
    "X = ac.fit_transform(X)\n",
    "\n",
    "print(X)"
   ]
  },
  {
   "cell_type": "code",
   "execution_count": null,
   "metadata": {},
   "outputs": [],
   "source": [
    "#Seprate the training set, cross validation set and test set. to make sure there is no overfitting .Overfitting means learning too much \n"
   ]
  }
 ],
 "metadata": {
  "kernelspec": {
   "display_name": "Python 3",
   "language": "python",
   "name": "python3"
  },
  "language_info": {
   "codemirror_mode": {
    "name": "ipython",
    "version": 3
   },
   "file_extension": ".py",
   "mimetype": "text/x-python",
   "name": "python",
   "nbconvert_exporter": "python",
   "pygments_lexer": "ipython3",
   "version": "3.7.4"
  }
 },
 "nbformat": 4,
 "nbformat_minor": 2
}
