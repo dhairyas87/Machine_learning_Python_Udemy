{
 "cells": [
  {
   "cell_type": "code",
   "execution_count": null,
   "metadata": {},
   "outputs": [],
   "source": [
    "#Data Prepocessing\n",
    "\n",
    "#importing the library\n",
    "\n",
    "\n",
    "import numpy as np;#Used for mathematical functions\n",
    "import matplotlib.pyplot as plt # used for plotting the plots\n",
    "import pandas as pd #used for importing data set as well as converting dataset to matrices\n",
    "\n",
    "\n"
   ]
  }
 ],
 "metadata": {
  "kernelspec": {
   "display_name": "Python 3",
   "language": "python",
   "name": "python3"
  },
  "language_info": {
   "codemirror_mode": {
    "name": "ipython",
    "version": 3
   },
   "file_extension": ".py",
   "mimetype": "text/x-python",
   "name": "python",
   "nbconvert_exporter": "python",
   "pygments_lexer": "ipython3",
   "version": "3.7.4"
  }
 },
 "nbformat": 4,
 "nbformat_minor": 2
}
